{
  "nbformat": 4,
  "nbformat_minor": 0,
  "metadata": {
    "colab": {
      "provenance": []
    },
    "kernelspec": {
      "name": "python3",
      "display_name": "Python 3"
    },
    "language_info": {
      "name": "python"
    }
  },
  "cells": [
    {
      "cell_type": "code",
      "execution_count": 1,
      "metadata": {
        "colab": {
          "base_uri": "https://localhost:8080/"
        },
        "id": "X3HdQim91iC9",
        "outputId": "0bdb0587-713d-4158-95c5-bbb95c329fd5"
      },
      "outputs": [
        {
          "name": "stdout",
          "output_type": "stream",
          "text": [
            "masukkan suhu dalam celcius: 50\n"
          ]
        }
      ],
      "source": [
        "# Masukkan suhu dalam celcius\n",
        "\n",
        "suhu_c = float(input(\"masukkan suhu dalam celcius: \"))"
      ]
    },
    {
      "cell_type": "code",
      "source": [
        "type(suhu_c)"
      ],
      "metadata": {
        "colab": {
          "base_uri": "https://localhost:8080/"
        },
        "id": "Yg8TokqC2NRb",
        "outputId": "7634ce3d-e017-4aa3-a8ab-15c09c96ff2d"
      },
      "execution_count": 2,
      "outputs": [
        {
          "output_type": "execute_result",
          "data": {
            "text/plain": [
              "float"
            ]
          },
          "metadata": {},
          "execution_count": 2
        }
      ]
    },
    {
      "cell_type": "code",
      "source": [
        "# Masukkan rumus celcius ke fahrenheit\n",
        "\n",
        "suhu_f = 9/5 * suhu_c + 32"
      ],
      "metadata": {
        "id": "4McREY362ULA"
      },
      "execution_count": 3,
      "outputs": []
    },
    {
      "cell_type": "code",
      "source": [
        "print(suhu_f)"
      ],
      "metadata": {
        "colab": {
          "base_uri": "https://localhost:8080/"
        },
        "id": "BjztjnMh2m2t",
        "outputId": "c5d5074e-dfde-411e-9e58-529b21e634e9"
      },
      "execution_count": 4,
      "outputs": [
        {
          "output_type": "stream",
          "name": "stdout",
          "text": [
            "122.0\n"
          ]
        }
      ]
    },
    {
      "cell_type": "code",
      "source": [
        "# Klasifikasikan suhu\n",
        "\n",
        "if suhu_f > 150:\n",
        "  print(\"sekarang suhunya panas\")\n",
        "\n",
        "elif suhu_f > 100:\n",
        "  print(\"suhunya normal\")\n",
        "\n",
        "else:\n",
        "  print(\"sekarang suhunya dingin\")"
      ],
      "metadata": {
        "colab": {
          "base_uri": "https://localhost:8080/"
        },
        "id": "Boij7ejz2vYU",
        "outputId": "b6ad99d0-42c3-4f3e-f0cc-39cb4b3f28a7"
      },
      "execution_count": 5,
      "outputs": [
        {
          "output_type": "stream",
          "name": "stdout",
          "text": [
            "suhunya normal\n"
          ]
        }
      ]
    }
  ]
}